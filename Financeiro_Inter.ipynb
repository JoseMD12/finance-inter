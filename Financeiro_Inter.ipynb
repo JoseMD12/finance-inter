{
  "nbformat": 4,
  "nbformat_minor": 0,
  "metadata": {
    "colab": {
      "provenance": [],
      "authorship_tag": "ABX9TyPo32Kyfyrrr4UiuEv8F0oh",
      "include_colab_link": true
    },
    "kernelspec": {
      "name": "python3",
      "display_name": "Python 3"
    },
    "language_info": {
      "name": "python"
    }
  },
  "cells": [
    {
      "cell_type": "markdown",
      "metadata": {
        "id": "view-in-github",
        "colab_type": "text"
      },
      "source": [
        "<a href=\"https://colab.research.google.com/github/JoseMD12/finance-inter/blob/main/Financeiro_Inter.ipynb\" target=\"_parent\"><img src=\"https://colab.research.google.com/assets/colab-badge.svg\" alt=\"Open In Colab\"/></a>"
      ]
    },
    {
      "cell_type": "markdown",
      "source": [
        "# Bem-vindo a Análise Financeira!\n",
        "\n",
        "Este notebook foi criado para ajudar a organizar e analisar seus extratos bancários.\n",
        "\n",
        "**Primeiros Passos:**\n",
        "\n",
        "1.  **Suba seu arquivo CSV:** Clique no ícone de pasta no painel lateral esquerdo. Em seguida, clique no ícone \"Upload para armazenamento da sessão\" (um ícone de seta para cima).\n",
        "\n",
        "2.  **Modifique `nome_do_arquivo` e `arquivo_saida`:**\n",
        "    *   `nome_do_arquivo`: Altere o valor entre as aspas para o nome exato do arquivo CSV que você acabou de subir.\n",
        "\n",
        "    *   `arquivo_saida`: Defina o nome que você deseja dar ao arquivo CSV.\n",
        "\n",
        "Após configurar esses passos, você pode executar as células do notebook para processar seus dados."
      ],
      "metadata": {
        "id": "hX8dYt61IfiV"
      }
    },
    {
      "cell_type": "code",
      "source": [
        "import pandas as pd\n",
        "from IPython import get_ipython\n",
        "from IPython.display import display\n",
        "\n",
        "#Colocar o nome do arquivo aqui\n",
        "nome_do_arquivo = \"/Extrato-10-05-2025-a-14-06-2025.csv\"\n",
        "#Colocar o nome do arquivo saida\n",
        "arquivo_saida = \"/Junho-Jose.csv\"\n",
        "\n",
        "df = pd.read_csv(nome_do_arquivo, skiprows=5, sep=';')\n",
        "df.columns = [\"Data\", \"Descricao\", \"Valor\", \"Saldo\"]\n",
        "df = df.drop(columns=[\"Saldo\"])"
      ],
      "metadata": {
        "id": "vxJ0sZQQGa07"
      },
      "execution_count": 42,
      "outputs": []
    },
    {
      "cell_type": "markdown",
      "source": [
        "## Limpeza da Coluna 'Descricao'\n",
        "\n",
        "Este bloco de código utiliza expressões regulares para limpar a coluna 'Descricao', removendo termos indesejados como \"pix enviado:\", \"pix recebido:\", etc. Isso ajuda a padronizar as descrições para facilitar a categorização posterior."
      ],
      "metadata": {
        "id": "Rx4BfC6mJa_D"
      }
    },
    {
      "cell_type": "code",
      "source": [
        "import re\n",
        "\n",
        "def limpar_descricao(desc):\n",
        "    padroes = [\n",
        "        r'(?i)^pix enviado:\\s*\"?',\n",
        "        r'(?i)^pix recebido:\\s*\"?',\n",
        "        r'(?i)^pagamento de convenio:\\s*\"?',\n",
        "        r'(?i)^compra no debito:\\s*\"?no estabelecimento\\s*\"?',\n",
        "        r'(?i)^pagamento efetuado:\\s*\"?'\n",
        "    ]\n",
        "\n",
        "    for padrao in padroes:\n",
        "        desc = re.sub(padrao, '', desc)\n",
        "\n",
        "    desc = desc.replace('\"', '').strip()\n",
        "    return desc\n",
        "\n",
        "df['Descricao'] = df['Descricao'].astype(str).apply(limpar_descricao)"
      ],
      "metadata": {
        "id": "l34RI0zAGene"
      },
      "execution_count": 43,
      "outputs": []
    },
    {
      "cell_type": "markdown",
      "source": [
        "## Categorização das Transações\n",
        "\n",
        "Este bloco de código categoriza as transações com base em palavras-chave presentes na coluna 'Descricao'."
      ],
      "metadata": {
        "id": "Jdez1SAxJga4"
      }
    },
    {
      "cell_type": "code",
      "source": [
        "categorias = {\n",
        "    \"Mercado\": [\"cestto\", \"market4u\", \"center shop\", \"hortifruti\", \"padaria\"],\n",
        "    \"Contas\": [\"realize\", \"claro\", \"ceee\", \"banco do brasil\"],\n",
        "    \"Casa\": [\"amazon\"],\n",
        "    \"Saude\": [\"panvel\", \"fernanda\", \"amor e saude\", \"convenio\"],\n",
        "    \"Lazer\": [\"bar\", \"ingresso\", \"silva\"],\n",
        "    \"Carro\": [\"posto\", \"combustivel\", \"oficina\", \"estacionamento\"],\n",
        "    \"Mel\": [\"cobasi\"],\n",
        "    \"Trabalho\": [\"creatus\", \"pnb\", \"preto no branco\", \"erenito xavier\", \"paralela\"],\n",
        "    \"Delivery\": [\"ifood\"],\n",
        "    \"Assinatura\": [\"max\", \"gzh\", \"spotify\"]\n",
        "}\n",
        "\n",
        "def categorizar_descricao(desc):\n",
        "    desc_lower = str(desc).lower()\n",
        "    for categoria, palavras_chave in categorias.items():\n",
        "        for palavra_chave in palavras_chave:\n",
        "            if palavra_chave in desc_lower:\n",
        "                return categoria\n",
        "    return \"\"\n",
        "\n",
        "df['Categoria'] = df['Descricao'].apply(categorizar_descricao)"
      ],
      "metadata": {
        "id": "qndPMCHZGje_"
      },
      "execution_count": 44,
      "outputs": []
    },
    {
      "cell_type": "markdown",
      "source": [],
      "metadata": {
        "id": "yth37q15S_0u"
      }
    },
    {
      "cell_type": "code",
      "source": [
        "\n",
        "def classificar_tipo_gasto(categoria):\n",
        "    categorias_individual = [\"Lazer\", \"Investimento\", \"Saúde\", \"Pagamento\", \"Trabalho\"]\n",
        "    categorias_conjunto = [\"Mercado\", \"Contas\", \"Carro\", \"Mel\", \"Casa\", \"Roupas\", \"Delivery\", \"Assinatura\"] # Incluí as novas categorias que você adicionou\n",
        "\n",
        "    if categoria in categorias_individual:\n",
        "        return \"Individual\"\n",
        "    elif categoria in categorias_conjunto:\n",
        "        return \"Conjunto\"\n",
        "    else:\n",
        "        return \"\"\n",
        "\n",
        "df['Tipo do Gasto'] = df['Categoria'].apply(classificar_tipo_gasto)"
      ],
      "metadata": {
        "id": "vhT33YdTS_nC"
      },
      "execution_count": 48,
      "outputs": []
    },
    {
      "cell_type": "markdown",
      "source": [
        "## Formatação Final do DataFrame e Exportação\n",
        "\n",
        "Este bloco de código prepara o DataFrame final para exportação. Ele seleciona as colunas relevantes, renomeia-as para facilitar a leitura e adiciona uma coluna vazia 'Tipo do Gasto'. Finalmente, o DataFrame formatado é exportado para um arquivo CSV com o nome especificado na variável `arquivo_saida`, usando ponto-vírgula como separador."
      ],
      "metadata": {
        "id": "QJYbXPflJor5"
      }
    },
    {
      "cell_type": "code",
      "source": [
        "df_formatado = df[[\n",
        "    \"Descricao\",\n",
        "    \"Data\",\n",
        "    \"Valor\",\n",
        "    \"Categoria\",\n",
        "    \"Tipo do Gasto\",\n",
        "]]\n",
        "\n",
        "df_formatado.columns = [\n",
        "    \"Descrição do Gasto\",\n",
        "    \"Data\",\n",
        "    \"Valor da transação\",\n",
        "    \"Categoria\",\n",
        "    \"Tipo do Gasto\",\n",
        "]\n",
        "\n",
        "df_formatado.head()\n",
        "df_formatado.to_csv(arquivo_saida, index=False, sep=';')"
      ],
      "metadata": {
        "id": "LJbSmk8jGnc_"
      },
      "execution_count": 49,
      "outputs": []
    }
  ]
}